{
 "cells": [
  {
   "cell_type": "code",
   "execution_count": null,
   "id": "d7f0a284",
   "metadata": {},
   "outputs": [],
   "source": [
    "conda create -n cptec python=3.10\n",
    "\n",
    "conda activate cptec\n",
    "conda install -c conda-forge xarray matplotlib pycurl cfgrib netcdf4 pynio xarray matplotlib pycurl cfgrib netcdf4 pynio dask\n",
    "conda install -c anaconda ipykernel"
   ]
  },
  {
   "cell_type": "code",
   "execution_count": 1,
   "id": "3048d811",
   "metadata": {},
   "outputs": [
    {
     "ename": "ModuleNotFoundError",
     "evalue": "No module named 'src'",
     "output_type": "error",
     "traceback": [
      "\u001b[0;31m---------------------------------------------------------------------------\u001b[0m",
      "\u001b[0;31mModuleNotFoundError\u001b[0m                       Traceback (most recent call last)",
      "Cell \u001b[0;32mIn[1], line 5\u001b[0m\n\u001b[1;32m      1\u001b[0m \u001b[38;5;66;03m# Import para os modelos disponiveis\u001b[39;00m\n\u001b[1;32m      2\u001b[0m \u001b[38;5;66;03m# CPTEC_BAM, CPTEC_WRF, CPTEC_ETA, CPTEC_GFS\u001b[39;00m\n\u001b[1;32m      4\u001b[0m \u001b[38;5;28;01mimport\u001b[39;00m \u001b[38;5;21;01mCPTEC_BAM\u001b[39;00m \u001b[38;5;28;01mas\u001b[39;00m \u001b[38;5;21;01mBAM\u001b[39;00m\n\u001b[0;32m----> 5\u001b[0m \u001b[38;5;28;01mimport\u001b[39;00m \u001b[38;5;21;01mCPTEC_Widgets\u001b[39;00m \u001b[38;5;28;01mas\u001b[39;00m \u001b[38;5;21;01mWID\u001b[39;00m\n",
      "File \u001b[0;32mCPTEC_Widgets.py:3\u001b[0m\n",
      "\u001b[0;31mModuleNotFoundError\u001b[0m: No module named 'src'"
     ]
    }
   ],
   "source": [
    "# Import para os modelos disponiveis\n",
    "# CPTEC_BAM, CPTEC_WRF, CPTEC_ETA, CPTEC_GFS\n",
    "\n",
    "import CPTEC_BAM as BAM\n",
    "import CPTEC_Widgets as WID"
   ]
  },
  {
   "cell_type": "code",
   "execution_count": null,
   "id": "784331be",
   "metadata": {},
   "outputs": [],
   "source": [
    "# Durante a inicialização do construtor informações sobre os dados são exibidas\n",
    "# Entre elas informações de variaveis, niveis e frequência disponiveis para consulta\n",
    "\n",
    "bam = BAM.model()"
   ]
  },
  {
   "cell_type": "code",
   "execution_count": null,
   "id": "c38a9f18",
   "metadata": {},
   "outputs": [],
   "source": [
    "WID.show_menu(bam)"
   ]
  },
  {
   "cell_type": "code",
   "execution_count": null,
   "id": "b263b557",
   "metadata": {},
   "outputs": [],
   "source": []
  }
 ],
 "metadata": {
  "kernelspec": {
   "display_name": "Python 3 (ipykernel)",
   "language": "python",
   "name": "python3"
  },
  "language_info": {
   "codemirror_mode": {
    "name": "ipython",
    "version": 3
   },
   "file_extension": ".py",
   "mimetype": "text/x-python",
   "name": "python",
   "nbconvert_exporter": "python",
   "pygments_lexer": "ipython3",
   "version": "3.10.8"
  }
 },
 "nbformat": 4,
 "nbformat_minor": 5
}
